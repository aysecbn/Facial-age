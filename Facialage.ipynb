{
  "nbformat": 4,
  "nbformat_minor": 0,
  "metadata": {
    "colab": {
      "name": "Facialage.ipynb",
      "provenance": [],
      "collapsed_sections": []
    },
    "kernelspec": {
      "name": "python3",
      "display_name": "Python 3"
    },
    "accelerator": "GPU"
  },
  "cells": [
    {
      "cell_type": "markdown",
      "metadata": {
        "id": "Ei8Yv7BVPDXn"
      },
      "source": [
        "**Loading Data**\r\n",
        "\r\n",
        "*   Firstly I am connecting Google Colab with Google Drive."
      ]
    },
    {
      "cell_type": "code",
      "metadata": {
        "colab": {
          "base_uri": "https://localhost:8080/",
          "height": 0
        },
        "id": "r7VRcUuy4RuW",
        "outputId": "03585b44-9642-4367-cca4-06ce1f6b8947"
      },
      "source": [
        "from google.colab import drive\r\n",
        "drive.mount('/content/drive')"
      ],
      "execution_count": 1,
      "outputs": [
        {
          "output_type": "stream",
          "text": [
            "Mounted at /content/drive\n"
          ],
          "name": "stdout"
        }
      ]
    },
    {
      "cell_type": "markdown",
      "metadata": {
        "id": "Q6a1EV6kPMOo"
      },
      "source": [
        "\r\n",
        "*   My data set is about age of people and it has five categories.\r\n",
        "\r\n",
        "*   Images are in a zip file in Drive, which name is faceage.zip. \r\n",
        "*   I am showing the zip file path."
      ]
    },
    {
      "cell_type": "code",
      "metadata": {
        "id": "cvVNT24N5wri"
      },
      "source": [
        "zip_adres = \"/content/drive/MyDrive/kerasders/faceage.zip\"\r\n",
        "!cp \"{zip_adres}\" ."
      ],
      "execution_count": 2,
      "outputs": []
    },
    {
      "cell_type": "markdown",
      "metadata": {
        "id": "AMJg7CkOPV7L"
      },
      "source": [
        "*   Unzipping data and removing it."
      ]
    },
    {
      "cell_type": "code",
      "metadata": {
        "id": "-iqmGavR51TQ"
      },
      "source": [
        "!unzip -q faceage.zip\r\n",
        "!rm faceage.zip"
      ],
      "execution_count": 3,
      "outputs": []
    },
    {
      "cell_type": "markdown",
      "metadata": {
        "id": "Y0xaBhN2Pdeq"
      },
      "source": [
        "*   Importing pandas and keras library and learning keras version."
      ]
    },
    {
      "cell_type": "code",
      "metadata": {
        "colab": {
          "base_uri": "https://localhost:8080/",
          "height": 35
        },
        "id": "NUSVHqZv6IkF",
        "outputId": "a731fe35-c79c-4c53-8347-f3e799f08490"
      },
      "source": [
        "import pandas as pd\r\n",
        "\r\n",
        "import keras\r\n",
        "keras.__version__"
      ],
      "execution_count": 4,
      "outputs": [
        {
          "output_type": "execute_result",
          "data": {
            "application/vnd.google.colaboratory.intrinsic+json": {
              "type": "string"
            },
            "text/plain": [
              "'2.4.3'"
            ]
          },
          "metadata": {
            "tags": []
          },
          "execution_count": 4
        }
      ]
    },
    {
      "cell_type": "markdown",
      "metadata": {
        "id": "wgSYCuSgPjbx"
      },
      "source": [
        "**VGG 16**\r\n",
        "\r\n",
        "\r\n",
        "*   Importing VGG16 and assigning value to it."
      ]
    },
    {
      "cell_type": "code",
      "metadata": {
        "colab": {
          "base_uri": "https://localhost:8080/",
          "height": 0
        },
        "id": "wSTxssII6KrQ",
        "outputId": "b0df1fbb-3826-4a84-907e-5822c4fbe7f4"
      },
      "source": [
        "from keras.applications import VGG16\r\n",
        "\r\n",
        "conv_base = VGG16(weights='imagenet',\r\n",
        "                  include_top=False,\r\n",
        "                  input_shape=(150, 150, 3))"
      ],
      "execution_count": 5,
      "outputs": [
        {
          "output_type": "stream",
          "text": [
            "Downloading data from https://storage.googleapis.com/tensorflow/keras-applications/vgg16/vgg16_weights_tf_dim_ordering_tf_kernels_notop.h5\n",
            "58892288/58889256 [==============================] - 0s 0us/step\n"
          ],
          "name": "stdout"
        }
      ]
    },
    {
      "cell_type": "markdown",
      "metadata": {
        "id": "Ba5oPZR_P714"
      },
      "source": [
        "*   Showing VGG16 layers. It has 14,714,688 trainable parameters."
      ]
    },
    {
      "cell_type": "code",
      "metadata": {
        "colab": {
          "base_uri": "https://localhost:8080/",
          "height": 0
        },
        "id": "UUAJBJ0i6S5d",
        "outputId": "0dc04bab-c042-4808-b4e9-06bd935ff0ea"
      },
      "source": [
        "conv_base.summary()"
      ],
      "execution_count": 6,
      "outputs": [
        {
          "output_type": "stream",
          "text": [
            "Model: \"vgg16\"\n",
            "_________________________________________________________________\n",
            "Layer (type)                 Output Shape              Param #   \n",
            "=================================================================\n",
            "input_1 (InputLayer)         [(None, 150, 150, 3)]     0         \n",
            "_________________________________________________________________\n",
            "block1_conv1 (Conv2D)        (None, 150, 150, 64)      1792      \n",
            "_________________________________________________________________\n",
            "block1_conv2 (Conv2D)        (None, 150, 150, 64)      36928     \n",
            "_________________________________________________________________\n",
            "block1_pool (MaxPooling2D)   (None, 75, 75, 64)        0         \n",
            "_________________________________________________________________\n",
            "block2_conv1 (Conv2D)        (None, 75, 75, 128)       73856     \n",
            "_________________________________________________________________\n",
            "block2_conv2 (Conv2D)        (None, 75, 75, 128)       147584    \n",
            "_________________________________________________________________\n",
            "block2_pool (MaxPooling2D)   (None, 37, 37, 128)       0         \n",
            "_________________________________________________________________\n",
            "block3_conv1 (Conv2D)        (None, 37, 37, 256)       295168    \n",
            "_________________________________________________________________\n",
            "block3_conv2 (Conv2D)        (None, 37, 37, 256)       590080    \n",
            "_________________________________________________________________\n",
            "block3_conv3 (Conv2D)        (None, 37, 37, 256)       590080    \n",
            "_________________________________________________________________\n",
            "block3_pool (MaxPooling2D)   (None, 18, 18, 256)       0         \n",
            "_________________________________________________________________\n",
            "block4_conv1 (Conv2D)        (None, 18, 18, 512)       1180160   \n",
            "_________________________________________________________________\n",
            "block4_conv2 (Conv2D)        (None, 18, 18, 512)       2359808   \n",
            "_________________________________________________________________\n",
            "block4_conv3 (Conv2D)        (None, 18, 18, 512)       2359808   \n",
            "_________________________________________________________________\n",
            "block4_pool (MaxPooling2D)   (None, 9, 9, 512)         0         \n",
            "_________________________________________________________________\n",
            "block5_conv1 (Conv2D)        (None, 9, 9, 512)         2359808   \n",
            "_________________________________________________________________\n",
            "block5_conv2 (Conv2D)        (None, 9, 9, 512)         2359808   \n",
            "_________________________________________________________________\n",
            "block5_conv3 (Conv2D)        (None, 9, 9, 512)         2359808   \n",
            "_________________________________________________________________\n",
            "block5_pool (MaxPooling2D)   (None, 4, 4, 512)         0         \n",
            "=================================================================\n",
            "Total params: 14,714,688\n",
            "Trainable params: 14,714,688\n",
            "Non-trainable params: 0\n",
            "_________________________________________________________________\n"
          ],
          "name": "stdout"
        }
      ]
    },
    {
      "cell_type": "markdown",
      "metadata": {
        "id": "cJVEL-nZQKNt"
      },
      "source": [
        "*   Reading train, validation and test data.\r\n",
        "*   Extracting features from data by the predict method."
      ]
    },
    {
      "cell_type": "code",
      "metadata": {
        "colab": {
          "base_uri": "https://localhost:8080/",
          "height": 0
        },
        "id": "O7dufSjy6YNM",
        "outputId": "9c34160f-f60c-49ba-9d17-74b6b7e7ecf1"
      },
      "source": [
        "import os\r\n",
        "import numpy as np\r\n",
        "from keras.preprocessing.image import ImageDataGenerator\r\n",
        "\r\n",
        "base_dir = '/content/faceage'\r\n",
        "\r\n",
        "train_dir = os.path.join(base_dir, 'train')\r\n",
        "validation_dir = os.path.join(base_dir, 'val')\r\n",
        "test_dir = os.path.join(base_dir, 'test')\r\n",
        "\r\n",
        "datagen = ImageDataGenerator(rescale=1./255)\r\n",
        "batch_size = 20\r\n",
        "\r\n",
        "def extract_features(directory, sample_count):\r\n",
        "    features = np.zeros(shape=(sample_count, 4, 4, 512))\r\n",
        "    labels = np.zeros(shape=(sample_count, 5))\r\n",
        "    generator = datagen.flow_from_directory(\r\n",
        "        directory,\r\n",
        "        target_size=(150, 150),\r\n",
        "        batch_size=batch_size,\r\n",
        "        class_mode='categorical')\r\n",
        "    i = 0\r\n",
        "    for inputs_batch, labels_batch in generator:\r\n",
        "        features_batch = conv_base.predict(inputs_batch)\r\n",
        "        features[i * batch_size : (i + 1) * batch_size] = features_batch\r\n",
        "        labels[i * batch_size : (i + 1) * batch_size] = labels_batch\r\n",
        "        i += 1\r\n",
        "        if i * batch_size >= sample_count:\r\n",
        "            # Note that since generators yield data indefinitely in a loop,\r\n",
        "            # we must `break` after every image has been seen once.\r\n",
        "            break\r\n",
        "    return features, labels\r\n",
        "\r\n",
        "train_features, train_labels = extract_features(train_dir, 1000)\r\n",
        "validation_features, validation_labels = extract_features(validation_dir, 250)\r\n",
        "test_features, test_labels = extract_features(test_dir, 250)"
      ],
      "execution_count": 7,
      "outputs": [
        {
          "output_type": "stream",
          "text": [
            "Found 1000 images belonging to 5 classes.\n",
            "Found 250 images belonging to 5 classes.\n",
            "Found 250 images belonging to 5 classes.\n"
          ],
          "name": "stdout"
        }
      ]
    },
    {
      "cell_type": "markdown",
      "metadata": {
        "id": "jF1dZt3aQbv9"
      },
      "source": [
        "\r\n",
        "*   Visulationing our categories with a pie plot.\r\n",
        "\r\n"
      ]
    },
    {
      "cell_type": "code",
      "metadata": {
        "colab": {
          "base_uri": "https://localhost:8080/",
          "height": 265
        },
        "id": "Vzdxf_4sYffz",
        "outputId": "cde7f7f5-8f37-4448-910d-5bda1f44d823"
      },
      "source": [
        "pd.Series(np.argmax(train_labels, 1)).value_counts().plot.pie()"
      ],
      "execution_count": 8,
      "outputs": [
        {
          "output_type": "execute_result",
          "data": {
            "text/plain": [
              "<matplotlib.axes._subplots.AxesSubplot at 0x7f0dca1d0c88>"
            ]
          },
          "metadata": {
            "tags": []
          },
          "execution_count": 8
        },
        {
          "output_type": "display_data",
          "data": {
            "image/png": "[encoded data removed]",
            "text/plain": [
              "<Figure size 432x288 with 1 Axes>"
            ]
          },
          "metadata": {
            "tags": []
          }
        }
      ]
    },
    {
      "cell_type": "code",
      "metadata": {
        "id": "E462bk3PXlB0"
      },
      "source": [
        "train_features = np.reshape(train_features, (1000, 4 * 4 * 512))\r\n",
        "validation_features = np.reshape(validation_features, (250, 4 * 4 * 512))\r\n",
        "test_features = np.reshape(test_features, (250, 4 * 4 * 512))"
      ],
      "execution_count": 9,
      "outputs": []
    },
    {
      "cell_type": "markdown",
      "metadata": {
        "id": "mEo94m2BRTiL"
      },
      "source": [
        "\r\n",
        "\r\n",
        "*   Adding dense layer to model and fitting it.\r\n",
        "\r\n",
        "\r\n"
      ]
    },
    {
      "cell_type": "code",
      "metadata": {
        "id": "f_LEFzolXxNR",
        "colab": {
          "base_uri": "https://localhost:8080/",
          "height": 0
        },
        "outputId": "78d28064-f538-414a-dfd9-99646c8f6f0f"
      },
      "source": [
        "from keras import models\r\n",
        "from keras import layers\r\n",
        "from keras import optimizers\r\n",
        "\r\n",
        "model = models.Sequential()\r\n",
        "model.add(layers.Dense(256, activation='relu', input_dim=4 * 4 * 512))\r\n",
        "model.add(layers.Dropout(0.5))\r\n",
        "model.add(layers.Dense(5, activation='softmax'))\r\n",
        "\r\n",
        "model.compile(optimizer=optimizers.RMSprop(lr=2e-5),\r\n",
        "              loss='categorical_crossentropy',\r\n",
        "              metrics=['acc'])\r\n",
        "\r\n",
        "history = model.fit(train_features, train_labels,\r\n",
        "                    epochs=30,\r\n",
        "                    batch_size=20,\r\n",
        "                    validation_data=(validation_features, validation_labels))"
      ],
      "execution_count": 10,
      "outputs": [
        {
          "output_type": "stream",
          "text": [
            "Epoch 1/30\n",
            "50/50 [==============================] - 1s 11ms/step - loss: 1.7981 - acc: 0.2061 - val_loss: 1.4429 - val_acc: 0.4280\n",
            "Epoch 2/30\n",
            "50/50 [==============================] - 0s 4ms/step - loss: 1.5635 - acc: 0.3173 - val_loss: 1.3036 - val_acc: 0.5440\n",
            "Epoch 3/30\n",
            "50/50 [==============================] - 0s 4ms/step - loss: 1.3424 - acc: 0.4377 - val_loss: 1.2060 - val_acc: 0.6200\n",
            "Epoch 4/30\n",
            "50/50 [==============================] - 0s 4ms/step - loss: 1.2782 - acc: 0.4541 - val_loss: 1.1291 - val_acc: 0.6520\n",
            "Epoch 5/30\n",
            "50/50 [==============================] - 0s 4ms/step - loss: 1.1858 - acc: 0.5046 - val_loss: 1.0788 - val_acc: 0.6320\n",
            "Epoch 6/30\n",
            "50/50 [==============================] - 0s 4ms/step - loss: 1.1598 - acc: 0.5156 - val_loss: 1.0216 - val_acc: 0.6920\n",
            "Epoch 7/30\n",
            "50/50 [==============================] - 0s 4ms/step - loss: 1.1191 - acc: 0.5458 - val_loss: 0.9762 - val_acc: 0.6840\n",
            "Epoch 8/30\n",
            "50/50 [==============================] - 0s 4ms/step - loss: 1.0338 - acc: 0.5753 - val_loss: 0.9295 - val_acc: 0.7040\n",
            "Epoch 9/30\n",
            "50/50 [==============================] - 0s 4ms/step - loss: 0.9831 - acc: 0.6263 - val_loss: 0.9003 - val_acc: 0.7240\n",
            "Epoch 10/30\n",
            "50/50 [==============================] - 0s 4ms/step - loss: 0.9943 - acc: 0.5994 - val_loss: 0.8601 - val_acc: 0.7400\n",
            "Epoch 11/30\n",
            "50/50 [==============================] - 0s 4ms/step - loss: 0.9556 - acc: 0.6247 - val_loss: 0.8323 - val_acc: 0.7600\n",
            "Epoch 12/30\n",
            "50/50 [==============================] - 0s 4ms/step - loss: 0.9130 - acc: 0.6490 - val_loss: 0.8063 - val_acc: 0.7640\n",
            "Epoch 13/30\n",
            "50/50 [==============================] - 0s 4ms/step - loss: 0.8994 - acc: 0.6502 - val_loss: 0.7801 - val_acc: 0.7800\n",
            "Epoch 14/30\n",
            "50/50 [==============================] - 0s 4ms/step - loss: 0.8680 - acc: 0.6664 - val_loss: 0.7565 - val_acc: 0.7920\n",
            "Epoch 15/30\n",
            "50/50 [==============================] - 0s 4ms/step - loss: 0.8573 - acc: 0.6792 - val_loss: 0.7360 - val_acc: 0.7960\n",
            "Epoch 16/30\n",
            "50/50 [==============================] - 0s 4ms/step - loss: 0.8180 - acc: 0.6887 - val_loss: 0.7110 - val_acc: 0.8040\n",
            "Epoch 17/30\n",
            "50/50 [==============================] - 0s 4ms/step - loss: 0.7842 - acc: 0.7175 - val_loss: 0.6924 - val_acc: 0.8040\n",
            "Epoch 18/30\n",
            "50/50 [==============================] - 0s 4ms/step - loss: 0.7911 - acc: 0.6999 - val_loss: 0.6751 - val_acc: 0.8080\n",
            "Epoch 19/30\n",
            "50/50 [==============================] - 0s 6ms/step - loss: 0.7537 - acc: 0.7385 - val_loss: 0.6665 - val_acc: 0.8080\n",
            "Epoch 20/30\n",
            "50/50 [==============================] - 0s 4ms/step - loss: 0.7812 - acc: 0.7171 - val_loss: 0.6501 - val_acc: 0.8400\n",
            "Epoch 21/30\n",
            "50/50 [==============================] - 0s 4ms/step - loss: 0.7086 - acc: 0.7490 - val_loss: 0.6327 - val_acc: 0.8320\n",
            "Epoch 22/30\n",
            "50/50 [==============================] - 0s 4ms/step - loss: 0.6950 - acc: 0.7801 - val_loss: 0.6139 - val_acc: 0.8400\n",
            "Epoch 23/30\n",
            "50/50 [==============================] - 0s 4ms/step - loss: 0.7033 - acc: 0.7576 - val_loss: 0.5972 - val_acc: 0.8600\n",
            "Epoch 24/30\n",
            "50/50 [==============================] - 0s 4ms/step - loss: 0.6795 - acc: 0.7567 - val_loss: 0.5858 - val_acc: 0.8760\n",
            "Epoch 25/30\n",
            "50/50 [==============================] - 0s 4ms/step - loss: 0.7156 - acc: 0.7519 - val_loss: 0.5734 - val_acc: 0.8760\n",
            "Epoch 26/30\n",
            "50/50 [==============================] - 0s 4ms/step - loss: 0.7031 - acc: 0.7239 - val_loss: 0.5598 - val_acc: 0.8720\n",
            "Epoch 27/30\n",
            "50/50 [==============================] - 0s 4ms/step - loss: 0.6298 - acc: 0.7867 - val_loss: 0.5502 - val_acc: 0.8720\n",
            "Epoch 28/30\n",
            "50/50 [==============================] - 0s 4ms/step - loss: 0.6083 - acc: 0.7937 - val_loss: 0.5334 - val_acc: 0.8840\n",
            "Epoch 29/30\n",
            "50/50 [==============================] - 0s 4ms/step - loss: 0.5801 - acc: 0.8235 - val_loss: 0.5223 - val_acc: 0.9000\n",
            "Epoch 30/30\n",
            "50/50 [==============================] - 0s 4ms/step - loss: 0.5844 - acc: 0.8033 - val_loss: 0.5115 - val_acc: 0.9000\n"
          ],
          "name": "stdout"
        }
      ]
    },
    {
      "cell_type": "markdown",
      "metadata": {
        "id": "et_nDIbnRkqT"
      },
      "source": [
        "\r\n",
        "After 50 epocs:\r\n",
        "*   Accuracy is almost 80%.\r\n",
        "*   Validation accuracy is almost 90%.\r\n",
        "*   Plotting values for per epocs.\r\n",
        "\r\n",
        "\r\n",
        "\r\n",
        "\r\n"
      ]
    },
    {
      "cell_type": "code",
      "metadata": {
        "colab": {
          "base_uri": "https://localhost:8080/",
          "height": 545
        },
        "id": "U1iVN8RBv63G",
        "outputId": "1e579832-0e26-4bb7-99f0-3ae84cdfef68"
      },
      "source": [
        "import matplotlib.pyplot as plt\r\n",
        "\r\n",
        "acc = history.history['acc']\r\n",
        "val_acc = history.history['val_acc']\r\n",
        "loss = history.history['loss']\r\n",
        "val_loss = history.history['val_loss']\r\n",
        "\r\n",
        "epochs = range(len(acc))\r\n",
        "\r\n",
        "plt.plot(epochs, acc, 'bo', label='Training acc')\r\n",
        "plt.plot(epochs, val_acc, 'b', label='Validation acc')\r\n",
        "plt.title('Training and validation accuracy')\r\n",
        "plt.legend()\r\n",
        "\r\n",
        "plt.figure()\r\n",
        "\r\n",
        "plt.plot(epochs, loss, 'bo', label='Training loss')\r\n",
        "plt.plot(epochs, val_loss, 'b', label='Validation loss')\r\n",
        "plt.title('Training and validation loss')\r\n",
        "plt.legend()\r\n",
        "\r\n",
        "plt.show()"
      ],
      "execution_count": 11,
      "outputs": [
        {
          "output_type": "display_data",
          "data": {
            "image/png": "[encoded data removed]",
            "text/plain": [
              "<Figure size 432x288 with 1 Axes>"
            ]
          },
          "metadata": {
            "tags": [],
            "needs_background": "light"
          }
        },
        {
          "output_type": "display_data",
          "data": {
            "image/png": "[encoded data removed]",
            "text/plain": [
              "<Figure size 432x288 with 1 Axes>"
            ]
          },
          "metadata": {
            "tags": [],
            "needs_background": "light"
          }
        }
      ]
    },
    {
      "cell_type": "markdown",
      "metadata": {
        "id": "Ft59eULRSQYr"
      },
      "source": [
        "\r\n",
        "\r\n",
        "*   Making VGG16 layers frozen.\r\n",
        "\r\n"
      ]
    },
    {
      "cell_type": "code",
      "metadata": {
        "id": "gWbsvbweZadM"
      },
      "source": [
        "conv_base.trainable = False"
      ],
      "execution_count": 12,
      "outputs": []
    },
    {
      "cell_type": "markdown",
      "metadata": {
        "id": "PxJz5YN0Sd2D"
      },
      "source": [
        "\r\n",
        "\r\n",
        "*   Adding Dense layers and changeing the model.\r\n",
        "\r\n",
        "\r\n"
      ]
    },
    {
      "cell_type": "code",
      "metadata": {
        "id": "0aP1P7RbZKtt"
      },
      "source": [
        "from keras import models\r\n",
        "from keras import layers\r\n",
        "\r\n",
        "model = models.Sequential()\r\n",
        "model.add(conv_base)\r\n",
        "model.add(layers.Flatten())\r\n",
        "model.add(layers.Dense(256, activation='relu'))\r\n",
        "model.add(layers.Dense(256, activation='relu'))\r\n",
        "model.add(layers.Dense(128, activation='relu'))\r\n",
        "model.add(layers.Dense(5, activation='softmax'))"
      ],
      "execution_count": 13,
      "outputs": []
    },
    {
      "cell_type": "markdown",
      "metadata": {
        "id": "jKTzs9J9Sxb0"
      },
      "source": [
        "*   Learning the model layers. Now it is 2,196,741 trainable parameters.\r\n",
        "\r\n",
        "\r\n"
      ]
    },
    {
      "cell_type": "code",
      "metadata": {
        "colab": {
          "base_uri": "https://localhost:8080/",
          "height": 0
        },
        "id": "VkpxhgQUZQNe",
        "outputId": "5f35188d-1746-4a71-9989-bb8be76076ba"
      },
      "source": [
        "model.summary()"
      ],
      "execution_count": 14,
      "outputs": [
        {
          "output_type": "stream",
          "text": [
            "Model: \"sequential_1\"\n",
            "_________________________________________________________________\n",
            "Layer (type)                 Output Shape              Param #   \n",
            "=================================================================\n",
            "vgg16 (Functional)           (None, 4, 4, 512)         14714688  \n",
            "_________________________________________________________________\n",
            "flatten (Flatten)            (None, 8192)              0         \n",
            "_________________________________________________________________\n",
            "dense_2 (Dense)              (None, 256)               2097408   \n",
            "_________________________________________________________________\n",
            "dense_3 (Dense)              (None, 256)               65792     \n",
            "_________________________________________________________________\n",
            "dense_4 (Dense)              (None, 128)               32896     \n",
            "_________________________________________________________________\n",
            "dense_5 (Dense)              (None, 5)                 645       \n",
            "=================================================================\n",
            "Total params: 16,911,429\n",
            "Trainable params: 2,196,741\n",
            "Non-trainable params: 14,714,688\n",
            "_________________________________________________________________\n"
          ],
          "name": "stdout"
        }
      ]
    },
    {
      "cell_type": "code",
      "metadata": {
        "colab": {
          "base_uri": "https://localhost:8080/",
          "height": 0
        },
        "id": "sbamwmF4ZTRr",
        "outputId": "1a43d4a9-13a3-4977-d5c0-265e1baa6a25"
      },
      "source": [
        "print('This is the number of trainable weights '\r\n",
        "      'before freezing the conv base:', len(model.trainable_weights))"
      ],
      "execution_count": 15,
      "outputs": [
        {
          "output_type": "stream",
          "text": [
            "This is the number of trainable weights before freezing the conv base: 8\n"
          ],
          "name": "stdout"
        }
      ]
    },
    {
      "cell_type": "code",
      "metadata": {
        "colab": {
          "base_uri": "https://localhost:8080/",
          "height": 0
        },
        "id": "96aQZ7NdZdqg",
        "outputId": "33f93650-08e0-497d-9581-a29849d0a140"
      },
      "source": [
        "print('This is the number of trainable weights '\r\n",
        "      'after freezing the conv base:', len(model.trainable_weights))"
      ],
      "execution_count": 16,
      "outputs": [
        {
          "output_type": "stream",
          "text": [
            "This is the number of trainable weights after freezing the conv base: 8\n"
          ],
          "name": "stdout"
        }
      ]
    },
    {
      "cell_type": "markdown",
      "metadata": {
        "id": "TCU95BZYYHbu"
      },
      "source": [
        "\r\n",
        "**Preprocessing**\r\n",
        "*   Preprocessing data and using it for fitting model again.\r\n",
        "\r\n",
        "\r\n"
      ]
    },
    {
      "cell_type": "code",
      "metadata": {
        "id": "qcjBPV9lZhCo",
        "colab": {
          "base_uri": "https://localhost:8080/",
          "height": 0
        },
        "outputId": "91d0fddc-2a35-4b91-ece6-6958d9fb0d03"
      },
      "source": [
        "from keras.preprocessing.image import ImageDataGenerator\r\n",
        "\r\n",
        "train_datagen = ImageDataGenerator(\r\n",
        "      rescale=1./255,\r\n",
        "      rotation_range=40,\r\n",
        "      width_shift_range=0.2,\r\n",
        "      height_shift_range=0.2,\r\n",
        "      shear_range=0.2,\r\n",
        "      zoom_range=0.2,\r\n",
        "      horizontal_flip=True,\r\n",
        "      fill_mode='nearest')\r\n",
        "\r\n",
        "test_datagen = ImageDataGenerator(rescale=1./255)\r\n",
        "\r\n",
        "train_generator = train_datagen.flow_from_directory(\r\n",
        "        train_dir,\r\n",
        "        target_size=(150, 150),\r\n",
        "        batch_size=20,\r\n",
        "        class_mode='categorical')\r\n",
        "\r\n",
        "validation_generator = test_datagen.flow_from_directory(\r\n",
        "        validation_dir,\r\n",
        "        target_size=(150, 150),\r\n",
        "        batch_size=20,\r\n",
        "        class_mode='categorical')\r\n",
        "\r\n",
        "model.compile(loss='categorical_crossentropy',\r\n",
        "              optimizer=optimizers.Adam(lr=3e-3),\r\n",
        "              metrics=['acc'])\r\n",
        "\r\n",
        "history = model.fit(\r\n",
        "      train_generator,\r\n",
        "      steps_per_epoch=int(train_generator.n/train_generator.batch_size),\r\n",
        "      epochs=50,\r\n",
        "      validation_data=validation_generator,\r\n",
        "      validation_steps=int(validation_generator.n/validation_generator.batch_size),\r\n",
        "      verbose=1)"
      ],
      "execution_count": 17,
      "outputs": [
        {
          "output_type": "stream",
          "text": [
            "Found 1000 images belonging to 5 classes.\n",
            "Found 250 images belonging to 5 classes.\n",
            "Epoch 1/50\n",
            "50/50 [==============================] - 8s 156ms/step - loss: 2.3436 - acc: 0.2924 - val_loss: 1.0993 - val_acc: 0.5583\n",
            "Epoch 2/50\n",
            "50/50 [==============================] - 7s 150ms/step - loss: 1.2339 - acc: 0.4645 - val_loss: 0.9773 - val_acc: 0.5792\n",
            "Epoch 3/50\n",
            "50/50 [==============================] - 8s 150ms/step - loss: 1.1282 - acc: 0.5128 - val_loss: 0.9816 - val_acc: 0.5667\n",
            "Epoch 4/50\n",
            "50/50 [==============================] - 7s 150ms/step - loss: 1.1356 - acc: 0.5010 - val_loss: 0.9216 - val_acc: 0.5875\n",
            "Epoch 5/50\n",
            "50/50 [==============================] - 7s 149ms/step - loss: 1.0274 - acc: 0.5716 - val_loss: 0.9208 - val_acc: 0.6208\n",
            "Epoch 6/50\n",
            "50/50 [==============================] - 7s 149ms/step - loss: 1.0199 - acc: 0.5669 - val_loss: 0.8660 - val_acc: 0.6542\n",
            "Epoch 7/50\n",
            "50/50 [==============================] - 7s 149ms/step - loss: 0.9752 - acc: 0.5682 - val_loss: 0.8035 - val_acc: 0.6542\n",
            "Epoch 8/50\n",
            "50/50 [==============================] - 7s 149ms/step - loss: 0.9779 - acc: 0.5856 - val_loss: 1.1014 - val_acc: 0.5167\n",
            "Epoch 9/50\n",
            "50/50 [==============================] - 8s 150ms/step - loss: 1.0491 - acc: 0.5857 - val_loss: 0.7855 - val_acc: 0.6833\n",
            "Epoch 10/50\n",
            "50/50 [==============================] - 8s 151ms/step - loss: 0.9542 - acc: 0.6059 - val_loss: 0.7671 - val_acc: 0.7208\n",
            "Epoch 11/50\n",
            "50/50 [==============================] - 8s 152ms/step - loss: 0.9031 - acc: 0.6239 - val_loss: 0.7671 - val_acc: 0.6917\n",
            "Epoch 12/50\n",
            "50/50 [==============================] - 8s 152ms/step - loss: 0.9110 - acc: 0.6030 - val_loss: 0.7852 - val_acc: 0.6708\n",
            "Epoch 13/50\n",
            "50/50 [==============================] - 8s 150ms/step - loss: 0.8992 - acc: 0.6312 - val_loss: 0.7969 - val_acc: 0.6083\n",
            "Epoch 14/50\n",
            "50/50 [==============================] - 8s 150ms/step - loss: 0.8953 - acc: 0.6071 - val_loss: 0.8627 - val_acc: 0.5958\n",
            "Epoch 15/50\n",
            "50/50 [==============================] - 8s 151ms/step - loss: 0.8981 - acc: 0.6344 - val_loss: 0.7535 - val_acc: 0.7167\n",
            "Epoch 16/50\n",
            "50/50 [==============================] - 8s 151ms/step - loss: 0.9068 - acc: 0.6223 - val_loss: 0.7374 - val_acc: 0.7292\n",
            "Epoch 17/50\n",
            "50/50 [==============================] - 8s 151ms/step - loss: 0.8741 - acc: 0.6251 - val_loss: 0.8528 - val_acc: 0.6500\n",
            "Epoch 18/50\n",
            "50/50 [==============================] - 8s 150ms/step - loss: 0.9223 - acc: 0.6075 - val_loss: 0.8139 - val_acc: 0.6583\n",
            "Epoch 19/50\n",
            "50/50 [==============================] - 8s 152ms/step - loss: 0.8937 - acc: 0.6067 - val_loss: 0.7142 - val_acc: 0.7375\n",
            "Epoch 20/50\n",
            "50/50 [==============================] - 8s 150ms/step - loss: 0.8165 - acc: 0.6641 - val_loss: 0.6828 - val_acc: 0.7458\n",
            "Epoch 21/50\n",
            "50/50 [==============================] - 8s 150ms/step - loss: 0.8938 - acc: 0.6278 - val_loss: 0.6692 - val_acc: 0.7458\n",
            "Epoch 22/50\n",
            "50/50 [==============================] - 8s 151ms/step - loss: 0.8096 - acc: 0.6532 - val_loss: 0.6675 - val_acc: 0.7792\n",
            "Epoch 23/50\n",
            "50/50 [==============================] - 8s 150ms/step - loss: 0.8932 - acc: 0.6087 - val_loss: 0.7050 - val_acc: 0.7542\n",
            "Epoch 24/50\n",
            "50/50 [==============================] - 8s 150ms/step - loss: 0.8171 - acc: 0.6676 - val_loss: 0.6874 - val_acc: 0.7500\n",
            "Epoch 25/50\n",
            "50/50 [==============================] - 8s 150ms/step - loss: 0.8115 - acc: 0.6824 - val_loss: 0.6890 - val_acc: 0.7208\n",
            "Epoch 26/50\n",
            "50/50 [==============================] - 7s 150ms/step - loss: 0.8138 - acc: 0.6751 - val_loss: 0.7191 - val_acc: 0.7042\n",
            "Epoch 27/50\n",
            "50/50 [==============================] - 8s 150ms/step - loss: 0.8202 - acc: 0.6502 - val_loss: 0.6744 - val_acc: 0.7458\n",
            "Epoch 28/50\n",
            "50/50 [==============================] - 8s 151ms/step - loss: 0.8492 - acc: 0.6316 - val_loss: 0.7148 - val_acc: 0.7333\n",
            "Epoch 29/50\n",
            "50/50 [==============================] - 7s 150ms/step - loss: 0.8425 - acc: 0.6463 - val_loss: 0.6756 - val_acc: 0.7708\n",
            "Epoch 30/50\n",
            "50/50 [==============================] - 7s 150ms/step - loss: 0.7919 - acc: 0.6820 - val_loss: 0.7573 - val_acc: 0.7125\n",
            "Epoch 31/50\n",
            "50/50 [==============================] - 8s 150ms/step - loss: 0.8200 - acc: 0.6242 - val_loss: 0.6879 - val_acc: 0.7500\n",
            "Epoch 32/50\n",
            "50/50 [==============================] - 8s 151ms/step - loss: 0.7795 - acc: 0.6948 - val_loss: 0.6456 - val_acc: 0.7625\n",
            "Epoch 33/50\n",
            "50/50 [==============================] - 8s 151ms/step - loss: 0.8078 - acc: 0.6712 - val_loss: 0.6753 - val_acc: 0.7292\n",
            "Epoch 34/50\n",
            "50/50 [==============================] - 7s 149ms/step - loss: 0.8223 - acc: 0.6549 - val_loss: 0.6291 - val_acc: 0.7250\n",
            "Epoch 35/50\n",
            "50/50 [==============================] - 7s 149ms/step - loss: 0.7289 - acc: 0.7061 - val_loss: 0.6000 - val_acc: 0.7875\n",
            "Epoch 36/50\n",
            "50/50 [==============================] - 8s 151ms/step - loss: 0.8078 - acc: 0.6557 - val_loss: 0.6222 - val_acc: 0.7750\n",
            "Epoch 37/50\n",
            "50/50 [==============================] - 8s 150ms/step - loss: 0.7456 - acc: 0.7053 - val_loss: 0.6057 - val_acc: 0.7292\n",
            "Epoch 38/50\n",
            "50/50 [==============================] - 8s 150ms/step - loss: 0.7665 - acc: 0.6858 - val_loss: 0.6829 - val_acc: 0.7333\n",
            "Epoch 39/50\n",
            "50/50 [==============================] - 8s 150ms/step - loss: 0.7868 - acc: 0.6882 - val_loss: 0.6434 - val_acc: 0.7375\n",
            "Epoch 40/50\n",
            "50/50 [==============================] - 8s 152ms/step - loss: 0.7197 - acc: 0.7176 - val_loss: 0.7022 - val_acc: 0.7667\n",
            "Epoch 41/50\n",
            "50/50 [==============================] - 8s 150ms/step - loss: 0.6873 - acc: 0.7367 - val_loss: 0.6040 - val_acc: 0.7625\n",
            "Epoch 42/50\n",
            "50/50 [==============================] - 8s 150ms/step - loss: 0.7669 - acc: 0.7018 - val_loss: 0.6638 - val_acc: 0.7292\n",
            "Epoch 43/50\n",
            "50/50 [==============================] - 8s 151ms/step - loss: 0.7853 - acc: 0.6807 - val_loss: 0.5972 - val_acc: 0.7708\n",
            "Epoch 44/50\n",
            "50/50 [==============================] - 8s 151ms/step - loss: 0.7983 - acc: 0.6815 - val_loss: 0.5465 - val_acc: 0.8000\n",
            "Epoch 45/50\n",
            "50/50 [==============================] - 8s 150ms/step - loss: 0.7255 - acc: 0.7005 - val_loss: 0.6134 - val_acc: 0.7542\n",
            "Epoch 46/50\n",
            "50/50 [==============================] - 8s 150ms/step - loss: 0.7242 - acc: 0.7049 - val_loss: 0.5515 - val_acc: 0.7917\n",
            "Epoch 47/50\n",
            "50/50 [==============================] - 7s 149ms/step - loss: 0.7056 - acc: 0.7291 - val_loss: 0.6299 - val_acc: 0.7458\n",
            "Epoch 48/50\n",
            "50/50 [==============================] - 8s 150ms/step - loss: 0.7539 - acc: 0.6978 - val_loss: 0.5261 - val_acc: 0.7833\n",
            "Epoch 49/50\n",
            "50/50 [==============================] - 8s 150ms/step - loss: 0.6907 - acc: 0.7148 - val_loss: 0.5784 - val_acc: 0.7917\n",
            "Epoch 50/50\n",
            "50/50 [==============================] - 8s 150ms/step - loss: 0.7059 - acc: 0.6995 - val_loss: 0.5987 - val_acc: 0.7750\n"
          ],
          "name": "stdout"
        }
      ]
    },
    {
      "cell_type": "markdown",
      "metadata": {
        "id": "QjqyoBFKY5v2"
      },
      "source": [
        "After 50 epocs:\r\n",
        "*   Accuracy is almost 70%.\r\n",
        "*   Validation accuracy is almost 77%.\r\n",
        "*   Plotting values for per epocs."
      ]
    },
    {
      "cell_type": "code",
      "metadata": {
        "id": "3IrdHQwey92c"
      },
      "source": [
        "model.save('face_age.h5')"
      ],
      "execution_count": 18,
      "outputs": []
    },
    {
      "cell_type": "code",
      "metadata": {
        "colab": {
          "base_uri": "https://localhost:8080/",
          "height": 545
        },
        "id": "wvm-fqndzEAE",
        "outputId": "e9ec5ad3-5fb6-461b-8e85-e815970f6fb9"
      },
      "source": [
        "acc = history.history['acc']\r\n",
        "val_acc = history.history['val_acc']\r\n",
        "loss = history.history['loss']\r\n",
        "val_loss = history.history['val_loss']\r\n",
        "\r\n",
        "epochs = range(len(acc))\r\n",
        "\r\n",
        "plt.plot(epochs, acc, 'bo', label='Training acc')\r\n",
        "plt.plot(epochs, val_acc, 'b', label='Validation acc')\r\n",
        "plt.title('Training and validation accuracy')\r\n",
        "plt.legend()\r\n",
        "\r\n",
        "plt.figure()\r\n",
        "\r\n",
        "plt.plot(epochs, loss, 'bo', label='Training loss')\r\n",
        "plt.plot(epochs, val_loss, 'b', label='Validation loss')\r\n",
        "plt.title('Training and validation loss')\r\n",
        "plt.legend()\r\n",
        "\r\n",
        "plt.show()"
      ],
      "execution_count": 19,
      "outputs": [
        {
          "output_type": "display_data",
          "data": {
            "image/png": "[encoded data removed]",
            "text/plain": [
              "<Figure size 432x288 with 1 Axes>"
            ]
          },
          "metadata": {
            "tags": [],
            "needs_background": "light"
          }
        },
        {
          "output_type": "display_data",
          "data": {
            "image/png": "[encoded data removed]",
            "text/plain": [
              "<Figure size 432x288 with 1 Axes>"
            ]
          },
          "metadata": {
            "tags": [],
            "needs_background": "light"
          }
        }
      ]
    },
    {
      "cell_type": "markdown",
      "metadata": {
        "id": "iifeN2qzT_3G"
      },
      "source": [
        "\r\n",
        "\r\n",
        "*   Checking VGG16 layers. It has no trainable parameters.\r\n",
        "\r\n"
      ]
    },
    {
      "cell_type": "code",
      "metadata": {
        "colab": {
          "base_uri": "https://localhost:8080/",
          "height": 0
        },
        "id": "xJ2CtNUzzOsb",
        "outputId": "ce6efd5b-94a1-4694-909d-abb33806dfb4"
      },
      "source": [
        "conv_base.summary()"
      ],
      "execution_count": 20,
      "outputs": [
        {
          "output_type": "stream",
          "text": [
            "Model: \"vgg16\"\n",
            "_________________________________________________________________\n",
            "Layer (type)                 Output Shape              Param #   \n",
            "=================================================================\n",
            "input_1 (InputLayer)         [(None, 150, 150, 3)]     0         \n",
            "_________________________________________________________________\n",
            "block1_conv1 (Conv2D)        (None, 150, 150, 64)      1792      \n",
            "_________________________________________________________________\n",
            "block1_conv2 (Conv2D)        (None, 150, 150, 64)      36928     \n",
            "_________________________________________________________________\n",
            "block1_pool (MaxPooling2D)   (None, 75, 75, 64)        0         \n",
            "_________________________________________________________________\n",
            "block2_conv1 (Conv2D)        (None, 75, 75, 128)       73856     \n",
            "_________________________________________________________________\n",
            "block2_conv2 (Conv2D)        (None, 75, 75, 128)       147584    \n",
            "_________________________________________________________________\n",
            "block2_pool (MaxPooling2D)   (None, 37, 37, 128)       0         \n",
            "_________________________________________________________________\n",
            "block3_conv1 (Conv2D)        (None, 37, 37, 256)       295168    \n",
            "_________________________________________________________________\n",
            "block3_conv2 (Conv2D)        (None, 37, 37, 256)       590080    \n",
            "_________________________________________________________________\n",
            "block3_conv3 (Conv2D)        (None, 37, 37, 256)       590080    \n",
            "_________________________________________________________________\n",
            "block3_pool (MaxPooling2D)   (None, 18, 18, 256)       0         \n",
            "_________________________________________________________________\n",
            "block4_conv1 (Conv2D)        (None, 18, 18, 512)       1180160   \n",
            "_________________________________________________________________\n",
            "block4_conv2 (Conv2D)        (None, 18, 18, 512)       2359808   \n",
            "_________________________________________________________________\n",
            "block4_conv3 (Conv2D)        (None, 18, 18, 512)       2359808   \n",
            "_________________________________________________________________\n",
            "block4_pool (MaxPooling2D)   (None, 9, 9, 512)         0         \n",
            "_________________________________________________________________\n",
            "block5_conv1 (Conv2D)        (None, 9, 9, 512)         2359808   \n",
            "_________________________________________________________________\n",
            "block5_conv2 (Conv2D)        (None, 9, 9, 512)         2359808   \n",
            "_________________________________________________________________\n",
            "block5_conv3 (Conv2D)        (None, 9, 9, 512)         2359808   \n",
            "_________________________________________________________________\n",
            "block5_pool (MaxPooling2D)   (None, 4, 4, 512)         0         \n",
            "=================================================================\n",
            "Total params: 14,714,688\n",
            "Trainable params: 0\n",
            "Non-trainable params: 14,714,688\n",
            "_________________________________________________________________\n"
          ],
          "name": "stdout"
        }
      ]
    },
    {
      "cell_type": "markdown",
      "metadata": {
        "id": "kGleoTeqUSCA"
      },
      "source": [
        "\r\n",
        "\r\n",
        "*   Making unfrozen fifth layer on VGG16.\r\n",
        "\r\n",
        "\r\n"
      ]
    },
    {
      "cell_type": "code",
      "metadata": {
        "id": "LE0Wq3wyaE3U"
      },
      "source": [
        "conv_base.trainable = True\r\n",
        "\r\n",
        "set_trainable = False\r\n",
        "for layer in conv_base.layers:\r\n",
        "    if layer.name == 'block5_conv1':\r\n",
        "        set_trainable = True\r\n",
        "    if set_trainable:\r\n",
        "        layer.trainable = True\r\n",
        "    else:\r\n",
        "        layer.trainable = False"
      ],
      "execution_count": 21,
      "outputs": []
    },
    {
      "cell_type": "markdown",
      "metadata": {
        "id": "ui_TGhusU3-9"
      },
      "source": [
        "\r\n",
        "\r\n",
        "*   Changing model and fitting it with preprocessed data.\r\n",
        "*   Learning the accuracy values.\r\n",
        "\r\n"
      ]
    },
    {
      "cell_type": "code",
      "metadata": {
        "colab": {
          "base_uri": "https://localhost:8080/",
          "height": 0
        },
        "id": "vFq4ORs4aOGM",
        "outputId": "6ddc235f-630f-4684-d3ed-e0ec6e86e331"
      },
      "source": [
        "model.compile(loss='categorical_crossentropy',\r\n",
        "              optimizer=optimizers.RMSprop(lr=1e-5),\r\n",
        "              metrics=['acc'])\r\n",
        "\r\n",
        "history = model.fit(\r\n",
        "      train_generator,\r\n",
        "      steps_per_epoch=int(train_generator.n/train_generator.batch_size),\r\n",
        "      epochs=50,\r\n",
        "      validation_data=validation_generator,\r\n",
        "      validation_steps=int(validation_generator.n/validation_generator.batch_size),\r\n",
        "      verbose=1)"
      ],
      "execution_count": 22,
      "outputs": [
        {
          "output_type": "stream",
          "text": [
            "Epoch 1/50\n",
            "50/50 [==============================] - 9s 161ms/step - loss: 0.7213 - acc: 0.7031 - val_loss: 0.4954 - val_acc: 0.8000\n",
            "Epoch 2/50\n",
            "50/50 [==============================] - 8s 155ms/step - loss: 0.6820 - acc: 0.7187 - val_loss: 0.5179 - val_acc: 0.7917\n",
            "Epoch 3/50\n",
            "50/50 [==============================] - 8s 155ms/step - loss: 0.5995 - acc: 0.7581 - val_loss: 0.4352 - val_acc: 0.8250\n",
            "Epoch 4/50\n",
            "50/50 [==============================] - 8s 155ms/step - loss: 0.6076 - acc: 0.7412 - val_loss: 0.4543 - val_acc: 0.8250\n",
            "Epoch 5/50\n",
            "50/50 [==============================] - 8s 157ms/step - loss: 0.6372 - acc: 0.7476 - val_loss: 0.4584 - val_acc: 0.7750\n",
            "Epoch 6/50\n",
            "50/50 [==============================] - 8s 157ms/step - loss: 0.5894 - acc: 0.7781 - val_loss: 0.5470 - val_acc: 0.7917\n",
            "Epoch 7/50\n",
            "50/50 [==============================] - 8s 155ms/step - loss: 0.6675 - acc: 0.7127 - val_loss: 0.4398 - val_acc: 0.8125\n",
            "Epoch 8/50\n",
            "50/50 [==============================] - 8s 155ms/step - loss: 0.5765 - acc: 0.7657 - val_loss: 0.4603 - val_acc: 0.8000\n",
            "Epoch 9/50\n",
            "50/50 [==============================] - 8s 156ms/step - loss: 0.6205 - acc: 0.7567 - val_loss: 0.3933 - val_acc: 0.8250\n",
            "Epoch 10/50\n",
            "50/50 [==============================] - 8s 156ms/step - loss: 0.5661 - acc: 0.7742 - val_loss: 0.4569 - val_acc: 0.8042\n",
            "Epoch 11/50\n",
            "50/50 [==============================] - 8s 155ms/step - loss: 0.5592 - acc: 0.7805 - val_loss: 0.4007 - val_acc: 0.8208\n",
            "Epoch 12/50\n",
            "50/50 [==============================] - 8s 155ms/step - loss: 0.5620 - acc: 0.7873 - val_loss: 0.3769 - val_acc: 0.8333\n",
            "Epoch 13/50\n",
            "50/50 [==============================] - 8s 155ms/step - loss: 0.5696 - acc: 0.7742 - val_loss: 0.3746 - val_acc: 0.8458\n",
            "Epoch 14/50\n",
            "50/50 [==============================] - 8s 156ms/step - loss: 0.5258 - acc: 0.7641 - val_loss: 0.3619 - val_acc: 0.8458\n",
            "Epoch 15/50\n",
            "50/50 [==============================] - 8s 157ms/step - loss: 0.5155 - acc: 0.7783 - val_loss: 0.2988 - val_acc: 0.8667\n",
            "Epoch 16/50\n",
            "50/50 [==============================] - 8s 157ms/step - loss: 0.4979 - acc: 0.7944 - val_loss: 0.3225 - val_acc: 0.8583\n",
            "Epoch 17/50\n",
            "50/50 [==============================] - 8s 156ms/step - loss: 0.4571 - acc: 0.8085 - val_loss: 0.3293 - val_acc: 0.8500\n",
            "Epoch 18/50\n",
            "50/50 [==============================] - 8s 156ms/step - loss: 0.5026 - acc: 0.8032 - val_loss: 0.2930 - val_acc: 0.8708\n",
            "Epoch 19/50\n",
            "50/50 [==============================] - 8s 155ms/step - loss: 0.4658 - acc: 0.8112 - val_loss: 0.2942 - val_acc: 0.8708\n",
            "Epoch 20/50\n",
            "50/50 [==============================] - 8s 156ms/step - loss: 0.4682 - acc: 0.8116 - val_loss: 0.2860 - val_acc: 0.8833\n",
            "Epoch 21/50\n",
            "50/50 [==============================] - 8s 156ms/step - loss: 0.4495 - acc: 0.8166 - val_loss: 0.2855 - val_acc: 0.8708\n",
            "Epoch 22/50\n",
            "50/50 [==============================] - 8s 155ms/step - loss: 0.4382 - acc: 0.8201 - val_loss: 0.3149 - val_acc: 0.8542\n",
            "Epoch 23/50\n",
            "50/50 [==============================] - 8s 156ms/step - loss: 0.4461 - acc: 0.8329 - val_loss: 0.2557 - val_acc: 0.8958\n",
            "Epoch 24/50\n",
            "50/50 [==============================] - 8s 157ms/step - loss: 0.4698 - acc: 0.7999 - val_loss: 0.2937 - val_acc: 0.8750\n",
            "Epoch 25/50\n",
            "50/50 [==============================] - 8s 157ms/step - loss: 0.4337 - acc: 0.8396 - val_loss: 0.2734 - val_acc: 0.8792\n",
            "Epoch 26/50\n",
            "50/50 [==============================] - 8s 159ms/step - loss: 0.4048 - acc: 0.8479 - val_loss: 0.2621 - val_acc: 0.8958\n",
            "Epoch 27/50\n",
            "50/50 [==============================] - 8s 157ms/step - loss: 0.4137 - acc: 0.8315 - val_loss: 0.2674 - val_acc: 0.8833\n",
            "Epoch 28/50\n",
            "50/50 [==============================] - 8s 156ms/step - loss: 0.4139 - acc: 0.8281 - val_loss: 0.2452 - val_acc: 0.9042\n",
            "Epoch 29/50\n",
            "50/50 [==============================] - 8s 157ms/step - loss: 0.4203 - acc: 0.8468 - val_loss: 0.2668 - val_acc: 0.8875\n",
            "Epoch 30/50\n",
            "50/50 [==============================] - 8s 156ms/step - loss: 0.4123 - acc: 0.8275 - val_loss: 0.2590 - val_acc: 0.9042\n",
            "Epoch 31/50\n",
            "50/50 [==============================] - 8s 157ms/step - loss: 0.4072 - acc: 0.8483 - val_loss: 0.3063 - val_acc: 0.8833\n",
            "Epoch 32/50\n",
            "50/50 [==============================] - 8s 160ms/step - loss: 0.3873 - acc: 0.8423 - val_loss: 0.2565 - val_acc: 0.9042\n",
            "Epoch 33/50\n",
            "50/50 [==============================] - 8s 157ms/step - loss: 0.3708 - acc: 0.8464 - val_loss: 0.2288 - val_acc: 0.9042\n",
            "Epoch 34/50\n",
            "50/50 [==============================] - 8s 157ms/step - loss: 0.3714 - acc: 0.8455 - val_loss: 0.2158 - val_acc: 0.8917\n",
            "Epoch 35/50\n",
            "50/50 [==============================] - 8s 156ms/step - loss: 0.3737 - acc: 0.8544 - val_loss: 0.1918 - val_acc: 0.9125\n",
            "Epoch 36/50\n",
            "50/50 [==============================] - 8s 157ms/step - loss: 0.3843 - acc: 0.8505 - val_loss: 0.2625 - val_acc: 0.8917\n",
            "Epoch 37/50\n",
            "50/50 [==============================] - 8s 156ms/step - loss: 0.3783 - acc: 0.8377 - val_loss: 0.1911 - val_acc: 0.9250\n",
            "Epoch 38/50\n",
            "50/50 [==============================] - 8s 156ms/step - loss: 0.3687 - acc: 0.8592 - val_loss: 0.1967 - val_acc: 0.9208\n",
            "Epoch 39/50\n",
            "50/50 [==============================] - 8s 156ms/step - loss: 0.3483 - acc: 0.8545 - val_loss: 0.1519 - val_acc: 0.9375\n",
            "Epoch 40/50\n",
            "50/50 [==============================] - 8s 157ms/step - loss: 0.3338 - acc: 0.8714 - val_loss: 0.1678 - val_acc: 0.9458\n",
            "Epoch 41/50\n",
            "50/50 [==============================] - 8s 156ms/step - loss: 0.3157 - acc: 0.8784 - val_loss: 0.1673 - val_acc: 0.9458\n",
            "Epoch 42/50\n",
            "50/50 [==============================] - 8s 157ms/step - loss: 0.2769 - acc: 0.9065 - val_loss: 0.2244 - val_acc: 0.9208\n",
            "Epoch 43/50\n",
            "50/50 [==============================] - 8s 157ms/step - loss: 0.3511 - acc: 0.8686 - val_loss: 0.1609 - val_acc: 0.9375\n",
            "Epoch 44/50\n",
            "50/50 [==============================] - 8s 157ms/step - loss: 0.3013 - acc: 0.8829 - val_loss: 0.2378 - val_acc: 0.9042\n",
            "Epoch 45/50\n",
            "50/50 [==============================] - 8s 158ms/step - loss: 0.3275 - acc: 0.8665 - val_loss: 0.1791 - val_acc: 0.9292\n",
            "Epoch 46/50\n",
            "50/50 [==============================] - 8s 157ms/step - loss: 0.3011 - acc: 0.8828 - val_loss: 0.1790 - val_acc: 0.9292\n",
            "Epoch 47/50\n",
            "50/50 [==============================] - 8s 158ms/step - loss: 0.2492 - acc: 0.8982 - val_loss: 0.1613 - val_acc: 0.9292\n",
            "Epoch 48/50\n",
            "50/50 [==============================] - 8s 156ms/step - loss: 0.2729 - acc: 0.9129 - val_loss: 0.1753 - val_acc: 0.9375\n",
            "Epoch 49/50\n",
            "50/50 [==============================] - 8s 157ms/step - loss: 0.2721 - acc: 0.8942 - val_loss: 0.1671 - val_acc: 0.9292\n",
            "Epoch 50/50\n",
            "50/50 [==============================] - 8s 157ms/step - loss: 0.2790 - acc: 0.9019 - val_loss: 0.1290 - val_acc: 0.9542\n"
          ],
          "name": "stdout"
        }
      ]
    },
    {
      "cell_type": "markdown",
      "metadata": {
        "id": "tRn6epE4ZIF6"
      },
      "source": [
        "After making unfrozen the fifth layer, accuracy increased.\r\n",
        "\r\n",
        "After 50 epocs:\r\n",
        "*   Accuracy is almost 90%.\r\n",
        "*   Validation accuracy is almost 95%.\r\n",
        "*   Plotting values for per epocs."
      ]
    },
    {
      "cell_type": "code",
      "metadata": {
        "id": "0ze0n2Uuz4-D"
      },
      "source": [
        "model.save('face_age_2.h5')"
      ],
      "execution_count": 23,
      "outputs": []
    },
    {
      "cell_type": "code",
      "metadata": {
        "colab": {
          "base_uri": "https://localhost:8080/",
          "height": 545
        },
        "id": "4dv-8WMw0Svl",
        "outputId": "78794ce9-4579-4631-e92c-a7fcb43d254d"
      },
      "source": [
        "acc = history.history['acc']\r\n",
        "val_acc = history.history['val_acc']\r\n",
        "loss = history.history['loss']\r\n",
        "val_loss = history.history['val_loss']\r\n",
        "\r\n",
        "epochs = range(len(acc))\r\n",
        "\r\n",
        "plt.plot(epochs, acc, 'bo', label='Training acc')\r\n",
        "plt.plot(epochs, val_acc, 'b', label='Validation acc')\r\n",
        "plt.title('Training and validation accuracy')\r\n",
        "plt.legend()\r\n",
        "\r\n",
        "plt.figure()\r\n",
        "\r\n",
        "plt.plot(epochs, loss, 'bo', label='Training loss')\r\n",
        "plt.plot(epochs, val_loss, 'b', label='Validation loss')\r\n",
        "plt.title('Training and validation loss')\r\n",
        "plt.legend()\r\n",
        "\r\n",
        "plt.show()"
      ],
      "execution_count": 24,
      "outputs": [
        {
          "output_type": "display_data",
          "data": {
            "image/png": "[encoded data removed]",
            "text/plain": [
              "<Figure size 432x288 with 1 Axes>"
            ]
          },
          "metadata": {
            "tags": [],
            "needs_background": "light"
          }
        },
        {
          "output_type": "display_data",
          "data": {
            "image/png": "[encoded data removed]",
            "text/plain": [
              "<Figure size 432x288 with 1 Axes>"
            ]
          },
          "metadata": {
            "tags": [],
            "needs_background": "light"
          }
        }
      ]
    },
    {
      "cell_type": "markdown",
      "metadata": {
        "id": "whbPBfnBZRYe"
      },
      "source": [
        "\r\n",
        "\r\n",
        "*   For increasing readability plotting it with average values.\r\n",
        "\r\n",
        "\r\n"
      ]
    },
    {
      "cell_type": "code",
      "metadata": {
        "colab": {
          "base_uri": "https://localhost:8080/",
          "height": 545
        },
        "id": "KL5vtdhb0hEY",
        "outputId": "cc2a2280-a9ec-4316-d034-4423f4e14b22"
      },
      "source": [
        "def smooth_curve(points, factor=0.8):\r\n",
        "  smoothed_points = []\r\n",
        "  for point in points:\r\n",
        "    if smoothed_points:\r\n",
        "      previous = smoothed_points[-1]\r\n",
        "      smoothed_points.append(previous * factor + point * (1 - factor))\r\n",
        "    else:\r\n",
        "      smoothed_points.append(point)\r\n",
        "  return smoothed_points\r\n",
        "\r\n",
        "plt.plot(epochs,\r\n",
        "         smooth_curve(acc), 'bo', label='Smoothed training acc')\r\n",
        "plt.plot(epochs,\r\n",
        "         smooth_curve(val_acc), 'b', label='Smoothed validation acc')\r\n",
        "plt.title('Training and validation accuracy')\r\n",
        "plt.legend()\r\n",
        "\r\n",
        "plt.figure()\r\n",
        "\r\n",
        "plt.plot(epochs,\r\n",
        "         smooth_curve(loss), 'bo', label='Smoothed training loss')\r\n",
        "plt.plot(epochs,\r\n",
        "         smooth_curve(val_loss), 'b', label='Smoothed validation loss')\r\n",
        "plt.title('Training and validation loss')\r\n",
        "plt.legend()\r\n",
        "\r\n",
        "plt.show()"
      ],
      "execution_count": 25,
      "outputs": [
        {
          "output_type": "display_data",
          "data": {
            "image/png": "[encoded data removed]",
            "text/plain": [
              "<Figure size 432x288 with 1 Axes>"
            ]
          },
          "metadata": {
            "tags": [],
            "needs_background": "light"
          }
        },
        {
          "output_type": "display_data",
          "data": {
            "image/png": "[encoded data removed]",
            "text/plain": [
              "<Figure size 432x288 with 1 Axes>"
            ]
          },
          "metadata": {
            "tags": [],
            "needs_background": "light"
          }
        }
      ]
    },
    {
      "cell_type": "markdown",
      "metadata": {
        "id": "1ha3uep7TdNN"
      },
      "source": [
        "*   Learning test accuracy:\r\n",
        "\r\n",
        "\r\n",
        "\r\n"
      ]
    },
    {
      "cell_type": "code",
      "metadata": {
        "colab": {
          "base_uri": "https://localhost:8080/",
          "height": 0
        },
        "id": "M_FmpjoGaqni",
        "outputId": "c1d417eb-1d3a-4004-b801-ea2d95df6cff"
      },
      "source": [
        "test_generator = test_datagen.flow_from_directory(\r\n",
        "        test_dir,\r\n",
        "        target_size=(150, 150),\r\n",
        "        batch_size=20,\r\n",
        "        class_mode='categorical')\r\n",
        "\r\n",
        "test_loss, test_acc = model.evaluate(test_generator, steps=test_generator.n/test_generator.batch_size)\r\n",
        "print('test acc:', test_acc)"
      ],
      "execution_count": 26,
      "outputs": [
        {
          "output_type": "stream",
          "text": [
            "Found 250 images belonging to 5 classes.\n",
            "12/12 [==============================] - 1s 56ms/step - loss: 0.8954 - acc: 0.7200\n",
            "test acc: 0.7200000286102295\n"
          ],
          "name": "stdout"
        }
      ]
    },
    {
      "cell_type": "markdown",
      "metadata": {
        "id": "OXtXxULre2dC"
      },
      "source": [
        "\r\n",
        "\r\n",
        "*   Test Accuracy is almost 72%\r\n",
        "\r\n",
        "\r\n"
      ]
    },
    {
      "cell_type": "markdown",
      "metadata": {
        "id": "dVjZCKw5gN4Z"
      },
      "source": [
        "\r\n",
        "\r\n",
        "*   Trying with opening fourth layer on VGG16 aswell.\r\n",
        "\r\n"
      ]
    },
    {
      "cell_type": "code",
      "metadata": {
        "id": "JN8JOcKdfCPd"
      },
      "source": [
        "conv_base.trainable = True\r\n",
        "\r\n",
        "set_trainable = False\r\n",
        "for layer in conv_base.layers:\r\n",
        "    if layer.name == 'block4_conv1':\r\n",
        "        set_trainable = True\r\n",
        "    if set_trainable:\r\n",
        "        layer.trainable = True\r\n",
        "    else:\r\n",
        "        layer.trainable = False"
      ],
      "execution_count": 27,
      "outputs": []
    },
    {
      "cell_type": "code",
      "metadata": {
        "colab": {
          "base_uri": "https://localhost:8080/",
          "height": 0
        },
        "id": "8lYgjoYUfpky",
        "outputId": "4cc9bf04-a6e3-4b23-bdda-ea1be9d5d109"
      },
      "source": [
        "model.summary()"
      ],
      "execution_count": 30,
      "outputs": [
        {
          "output_type": "stream",
          "text": [
            "Model: \"sequential_1\"\n",
            "_________________________________________________________________\n",
            "Layer (type)                 Output Shape              Param #   \n",
            "=================================================================\n",
            "vgg16 (Functional)           (None, 4, 4, 512)         14714688  \n",
            "_________________________________________________________________\n",
            "flatten (Flatten)            (None, 8192)              0         \n",
            "_________________________________________________________________\n",
            "dense_2 (Dense)              (None, 256)               2097408   \n",
            "_________________________________________________________________\n",
            "dense_3 (Dense)              (None, 256)               65792     \n",
            "_________________________________________________________________\n",
            "dense_4 (Dense)              (None, 128)               32896     \n",
            "_________________________________________________________________\n",
            "dense_5 (Dense)              (None, 5)                 645       \n",
            "=================================================================\n",
            "Total params: 16,911,429\n",
            "Trainable params: 15,175,941\n",
            "Non-trainable params: 1,735,488\n",
            "_________________________________________________________________\n"
          ],
          "name": "stdout"
        }
      ]
    },
    {
      "cell_type": "code",
      "metadata": {
        "colab": {
          "base_uri": "https://localhost:8080/",
          "height": 0
        },
        "id": "vJwP5Df7fnut",
        "outputId": "e9b3beac-edf3-4806-f0c0-c6dbf7b932c1"
      },
      "source": [
        "model.compile(loss='categorical_crossentropy',\r\n",
        "              optimizer=optimizers.RMSprop(lr=1e-5),\r\n",
        "              metrics=['acc'])\r\n",
        "\r\n",
        "history = model.fit(\r\n",
        "      train_generator,\r\n",
        "      steps_per_epoch=int(train_generator.n/train_generator.batch_size),\r\n",
        "      epochs=50,\r\n",
        "      validation_data=validation_generator,\r\n",
        "      validation_steps=int(validation_generator.n/validation_generator.batch_size),\r\n",
        "      verbose=1)"
      ],
      "execution_count": 29,
      "outputs": [
        {
          "output_type": "stream",
          "text": [
            "Epoch 1/50\n",
            "50/50 [==============================] - 9s 165ms/step - loss: 0.5690 - acc: 0.8141 - val_loss: 0.1719 - val_acc: 0.9375\n",
            "Epoch 2/50\n",
            "50/50 [==============================] - 8s 163ms/step - loss: 0.3037 - acc: 0.8781 - val_loss: 0.1734 - val_acc: 0.9417\n",
            "Epoch 3/50\n",
            "50/50 [==============================] - 8s 163ms/step - loss: 0.3313 - acc: 0.8774 - val_loss: 0.2434 - val_acc: 0.9083\n",
            "Epoch 4/50\n",
            "50/50 [==============================] - 8s 164ms/step - loss: 0.3458 - acc: 0.8561 - val_loss: 0.1230 - val_acc: 0.9583\n",
            "Epoch 5/50\n",
            "50/50 [==============================] - 8s 164ms/step - loss: 0.3581 - acc: 0.8743 - val_loss: 0.1694 - val_acc: 0.9500\n",
            "Epoch 6/50\n",
            "50/50 [==============================] - 8s 164ms/step - loss: 0.3202 - acc: 0.8862 - val_loss: 0.1789 - val_acc: 0.9292\n",
            "Epoch 7/50\n",
            "50/50 [==============================] - 8s 164ms/step - loss: 0.3089 - acc: 0.8654 - val_loss: 0.1608 - val_acc: 0.9333\n",
            "Epoch 8/50\n",
            "50/50 [==============================] - 8s 166ms/step - loss: 0.2858 - acc: 0.8993 - val_loss: 0.1483 - val_acc: 0.9333\n",
            "Epoch 9/50\n",
            "50/50 [==============================] - 8s 166ms/step - loss: 0.3324 - acc: 0.8730 - val_loss: 0.1228 - val_acc: 0.9625\n",
            "Epoch 10/50\n",
            "50/50 [==============================] - 8s 168ms/step - loss: 0.2690 - acc: 0.8969 - val_loss: 0.2872 - val_acc: 0.9125\n",
            "Epoch 11/50\n",
            "50/50 [==============================] - 8s 168ms/step - loss: 0.2556 - acc: 0.8987 - val_loss: 0.0963 - val_acc: 0.9750\n",
            "Epoch 12/50\n",
            "50/50 [==============================] - 8s 169ms/step - loss: 0.2751 - acc: 0.9002 - val_loss: 0.1436 - val_acc: 0.9417\n",
            "Epoch 13/50\n",
            "50/50 [==============================] - 8s 168ms/step - loss: 0.2255 - acc: 0.9213 - val_loss: 0.1230 - val_acc: 0.9667\n",
            "Epoch 14/50\n",
            "50/50 [==============================] - 8s 167ms/step - loss: 0.2595 - acc: 0.9101 - val_loss: 0.1466 - val_acc: 0.9500\n",
            "Epoch 15/50\n",
            "50/50 [==============================] - 8s 167ms/step - loss: 0.2433 - acc: 0.9067 - val_loss: 0.0989 - val_acc: 0.9708\n",
            "Epoch 16/50\n",
            "50/50 [==============================] - 8s 166ms/step - loss: 0.2483 - acc: 0.8979 - val_loss: 0.1186 - val_acc: 0.9583\n",
            "Epoch 17/50\n",
            "50/50 [==============================] - 8s 168ms/step - loss: 0.2697 - acc: 0.9117 - val_loss: 0.1912 - val_acc: 0.9542\n",
            "Epoch 18/50\n",
            "50/50 [==============================] - 8s 167ms/step - loss: 0.2022 - acc: 0.9297 - val_loss: 0.0604 - val_acc: 0.9792\n",
            "Epoch 19/50\n",
            "50/50 [==============================] - 8s 168ms/step - loss: 0.2232 - acc: 0.9140 - val_loss: 0.0823 - val_acc: 0.9833\n",
            "Epoch 20/50\n",
            "50/50 [==============================] - 8s 168ms/step - loss: 0.2219 - acc: 0.9213 - val_loss: 0.0643 - val_acc: 0.9833\n",
            "Epoch 21/50\n",
            "50/50 [==============================] - 8s 168ms/step - loss: 0.2037 - acc: 0.9341 - val_loss: 0.1575 - val_acc: 0.9333\n",
            "Epoch 22/50\n",
            "50/50 [==============================] - 8s 167ms/step - loss: 0.2481 - acc: 0.9202 - val_loss: 0.0699 - val_acc: 0.9792\n",
            "Epoch 23/50\n",
            "50/50 [==============================] - 8s 167ms/step - loss: 0.2084 - acc: 0.9241 - val_loss: 0.0671 - val_acc: 0.9667\n",
            "Epoch 24/50\n",
            "50/50 [==============================] - 8s 167ms/step - loss: 0.1881 - acc: 0.9270 - val_loss: 0.0763 - val_acc: 0.9792\n",
            "Epoch 25/50\n",
            "50/50 [==============================] - 8s 167ms/step - loss: 0.2376 - acc: 0.9141 - val_loss: 0.0429 - val_acc: 0.9917\n",
            "Epoch 26/50\n",
            "50/50 [==============================] - 8s 166ms/step - loss: 0.1790 - acc: 0.9336 - val_loss: 0.0441 - val_acc: 0.9958\n",
            "Epoch 27/50\n",
            "50/50 [==============================] - 8s 168ms/step - loss: 0.1991 - acc: 0.9242 - val_loss: 0.0743 - val_acc: 0.9750\n",
            "Epoch 28/50\n",
            "50/50 [==============================] - 8s 168ms/step - loss: 0.2218 - acc: 0.9205 - val_loss: 0.1224 - val_acc: 0.9375\n",
            "Epoch 29/50\n",
            "50/50 [==============================] - 8s 167ms/step - loss: 0.2106 - acc: 0.9193 - val_loss: 0.0428 - val_acc: 0.9917\n",
            "Epoch 30/50\n",
            "50/50 [==============================] - 9s 170ms/step - loss: 0.1483 - acc: 0.9465 - val_loss: 0.0468 - val_acc: 0.9833\n",
            "Epoch 31/50\n",
            "50/50 [==============================] - 8s 169ms/step - loss: 0.1430 - acc: 0.9587 - val_loss: 0.0269 - val_acc: 0.9958\n",
            "Epoch 32/50\n",
            "50/50 [==============================] - 8s 166ms/step - loss: 0.1378 - acc: 0.9453 - val_loss: 0.0224 - val_acc: 0.9917\n",
            "Epoch 33/50\n",
            "50/50 [==============================] - 8s 169ms/step - loss: 0.1838 - acc: 0.9504 - val_loss: 0.0552 - val_acc: 0.9833\n",
            "Epoch 34/50\n",
            "50/50 [==============================] - 8s 167ms/step - loss: 0.2008 - acc: 0.9236 - val_loss: 0.0370 - val_acc: 0.9833\n",
            "Epoch 35/50\n",
            "50/50 [==============================] - 8s 166ms/step - loss: 0.1652 - acc: 0.9400 - val_loss: 0.1411 - val_acc: 0.9833\n",
            "Epoch 36/50\n",
            "50/50 [==============================] - 8s 166ms/step - loss: 0.2117 - acc: 0.9351 - val_loss: 0.0336 - val_acc: 0.9875\n",
            "Epoch 37/50\n",
            "50/50 [==============================] - 8s 167ms/step - loss: 0.2119 - acc: 0.9301 - val_loss: 0.0605 - val_acc: 0.9750\n",
            "Epoch 38/50\n",
            "50/50 [==============================] - 8s 168ms/step - loss: 0.1501 - acc: 0.9464 - val_loss: 0.0369 - val_acc: 0.9917\n",
            "Epoch 39/50\n",
            "50/50 [==============================] - 8s 167ms/step - loss: 0.1818 - acc: 0.9374 - val_loss: 0.0374 - val_acc: 0.9917\n",
            "Epoch 40/50\n",
            "50/50 [==============================] - 8s 166ms/step - loss: 0.1811 - acc: 0.9369 - val_loss: 0.0374 - val_acc: 0.9917\n",
            "Epoch 41/50\n",
            "50/50 [==============================] - 8s 166ms/step - loss: 0.1566 - acc: 0.9401 - val_loss: 0.0272 - val_acc: 0.9958\n",
            "Epoch 42/50\n",
            "50/50 [==============================] - 8s 167ms/step - loss: 0.1246 - acc: 0.9589 - val_loss: 0.0328 - val_acc: 0.9917\n",
            "Epoch 43/50\n",
            "50/50 [==============================] - 8s 166ms/step - loss: 0.1181 - acc: 0.9524 - val_loss: 0.0287 - val_acc: 0.9958\n",
            "Epoch 44/50\n",
            "50/50 [==============================] - 8s 166ms/step - loss: 0.0995 - acc: 0.9643 - val_loss: 0.0210 - val_acc: 0.9958\n",
            "Epoch 45/50\n",
            "50/50 [==============================] - 8s 166ms/step - loss: 0.1043 - acc: 0.9598 - val_loss: 0.0338 - val_acc: 0.9875\n",
            "Epoch 46/50\n",
            "50/50 [==============================] - 8s 167ms/step - loss: 0.1304 - acc: 0.9544 - val_loss: 0.0221 - val_acc: 0.9917\n",
            "Epoch 47/50\n",
            "50/50 [==============================] - 8s 167ms/step - loss: 0.1311 - acc: 0.9534 - val_loss: 0.0423 - val_acc: 0.9917\n",
            "Epoch 48/50\n",
            "50/50 [==============================] - 8s 168ms/step - loss: 0.1390 - acc: 0.9508 - val_loss: 0.0382 - val_acc: 0.9875\n",
            "Epoch 49/50\n",
            "50/50 [==============================] - 8s 167ms/step - loss: 0.1159 - acc: 0.9556 - val_loss: 0.0246 - val_acc: 0.9958\n",
            "Epoch 50/50\n",
            "50/50 [==============================] - 8s 166ms/step - loss: 0.1120 - acc: 0.9639 - val_loss: 0.0524 - val_acc: 0.9833\n"
          ],
          "name": "stdout"
        }
      ]
    },
    {
      "cell_type": "markdown",
      "metadata": {
        "id": "kgcVwNkOhQPD"
      },
      "source": [
        "Accuracy values are increased.\r\n",
        "\r\n",
        "After 50 epocs:\r\n",
        "*   Accuracy is almost 96%.\r\n",
        "*   Validation accuracy is almost 98%.\r\n",
        "*   Plotting values for per epocs."
      ]
    },
    {
      "cell_type": "code",
      "metadata": {
        "colab": {
          "base_uri": "https://localhost:8080/",
          "height": 545
        },
        "id": "-DAAEb65he8R",
        "outputId": "2df2396d-5a5c-42d6-96ba-b4d154069a60"
      },
      "source": [
        "acc = history.history['acc']\r\n",
        "val_acc = history.history['val_acc']\r\n",
        "loss = history.history['loss']\r\n",
        "val_loss = history.history['val_loss']\r\n",
        "\r\n",
        "epochs = range(len(acc))\r\n",
        "\r\n",
        "plt.plot(epochs, acc, 'bo', label='Training acc')\r\n",
        "plt.plot(epochs, val_acc, 'b', label='Validation acc')\r\n",
        "plt.title('Training and validation accuracy')\r\n",
        "plt.legend()\r\n",
        "\r\n",
        "plt.figure()\r\n",
        "\r\n",
        "plt.plot(epochs, loss, 'bo', label='Training loss')\r\n",
        "plt.plot(epochs, val_loss, 'b', label='Validation loss')\r\n",
        "plt.title('Training and validation loss')\r\n",
        "plt.legend()\r\n",
        "\r\n",
        "plt.show()"
      ],
      "execution_count": 31,
      "outputs": [
        {
          "output_type": "display_data",
          "data": {
            "image/png": "[encoded data removed]",
            "text/plain": [
              "<Figure size 432x288 with 1 Axes>"
            ]
          },
          "metadata": {
            "tags": [],
            "needs_background": "light"
          }
        },
        {
          "output_type": "display_data",
          "data": {
            "image/png": "[encoded data removed]",
            "text/plain": [
              "<Figure size 432x288 with 1 Axes>"
            ]
          },
          "metadata": {
            "tags": [],
            "needs_background": "light"
          }
        }
      ]
    },
    {
      "cell_type": "markdown",
      "metadata": {
        "id": "ZvD18wu5h1bk"
      },
      "source": [
        "*   Checking test accuracy:"
      ]
    },
    {
      "cell_type": "code",
      "metadata": {
        "colab": {
          "base_uri": "https://localhost:8080/",
          "height": 0
        },
        "id": "NhYWqG-kht7o",
        "outputId": "4b3be90a-ba2d-4289-bcb9-04a877f9ae1d"
      },
      "source": [
        "test_generator = test_datagen.flow_from_directory(\r\n",
        "        test_dir,\r\n",
        "        target_size=(150, 150),\r\n",
        "        batch_size=20,\r\n",
        "        class_mode='categorical')\r\n",
        "\r\n",
        "test_loss, test_acc = model.evaluate(test_generator, steps=test_generator.n/test_generator.batch_size)\r\n",
        "print('test acc:', test_acc)"
      ],
      "execution_count": 32,
      "outputs": [
        {
          "output_type": "stream",
          "text": [
            "Found 250 images belonging to 5 classes.\n",
            "12/12 [==============================] - 1s 62ms/step - loss: 1.3251 - acc: 0.7760\n",
            "test acc: 0.7760000228881836\n"
          ],
          "name": "stdout"
        }
      ]
    },
    {
      "cell_type": "markdown",
      "metadata": {
        "id": "ym9XMSvTiT7M"
      },
      "source": [
        "Test accuracy is also increased.\r\n",
        "\r\n",
        "*   Test Accuracy is almost 78%.\r\n",
        "\r\n"
      ]
    }
  ]
}